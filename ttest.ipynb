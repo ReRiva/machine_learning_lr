{
 "cells": [
  {
   "cell_type": "markdown",
   "id": "936f4814",
   "metadata": {},
   "source": [
    "# Paired Sample T - Test"
   ]
  },
  {
   "cell_type": "markdown",
   "id": "f3168abd",
   "metadata": {},
   "source": [
    "The paired sample t-test is a test applied on a sample of paired units or a unit tested in two different situations. In our example, before and after subjects undergo a diet. Using the paired samples t-test will show if the diet has a significant effect on the subjects’ weights or not. This will help us to reject the null hypothesis."
   ]
  },
  {
   "cell_type": "markdown",
   "id": "8cbb413e",
   "metadata": {},
   "source": [
    "### Null hypothesis"
   ]
  },
  {
   "cell_type": "markdown",
   "id": "6f71f18d",
   "metadata": {},
   "source": [
    "A null hypothesis is a statistical theory suggesting that no statistical relationship exists between given observed variables. In our case it suggests that the diet did not have any effect on the weight of the subjects and instead the variance on their weight is pure accidental.\n",
    "\n"
   ]
  },
  {
   "cell_type": "code",
   "execution_count": null,
   "id": "1b4e2382",
   "metadata": {},
   "outputs": [],
   "source": []
  }
 ],
 "metadata": {
  "kernelspec": {
   "display_name": "Python 3 (ipykernel)",
   "language": "python",
   "name": "python3"
  },
  "language_info": {
   "codemirror_mode": {
    "name": "ipython",
    "version": 3
   },
   "file_extension": ".py",
   "mimetype": "text/x-python",
   "name": "python",
   "nbconvert_exporter": "python",
   "pygments_lexer": "ipython3",
   "version": "3.10.9"
  }
 },
 "nbformat": 4,
 "nbformat_minor": 5
}
