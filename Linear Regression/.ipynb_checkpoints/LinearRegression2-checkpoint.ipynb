{
 "cells": [
  {
   "cell_type": "code",
   "execution_count": 83,
   "id": "25615a4a",
   "metadata": {},
   "outputs": [],
   "source": [
    "import pandas as pd\n",
    "import numpy as np\n",
    "import matplotlib.pyplot as plt\n",
    "import scipy.optimize as so\n",
    "import scipy.stats as ss\n",
    "import seaborn as sns"
   ]
  },
  {
   "cell_type": "markdown",
   "id": "bad26e9d",
   "metadata": {},
   "source": [
    "## Linear Regression"
   ]
  },
  {
   "cell_type": "markdown",
   "id": "aa2b4940",
   "metadata": {},
   "source": [
    "Linear regression is used to predict a variable, based on the value another variable. \n",
    "\n",
    "We can predict the value or y based on the value of x.  One of its main advantages is the ease of interpreting results and predicting results. \n",
    "\n",
    "This is done by finding the best values for m and c that minimize the difference between the observed values of the dependent variable and the predicted values given by the line created by the linear regression function. This is usually done using a method called the least squares method.\n",
    "The simple linear regression formula is $y = mx +c$, where:\n",
    "\n",
    "**y** is the dependent variable as its value influenced by the values of the other variables.\n",
    "\n",
    "**x** is the independent variable.\n",
    "\n",
    "**m** is the slope of the line.\n",
    "\n",
    "And **c** is called the y intercept as it represents the value of y when x=0.\n",
    "\n"
   ]
  },
  {
   "cell_type": "markdown",
   "id": "2dd752ce",
   "metadata": {},
   "source": [
    "### Importing, preparing and exploring the data "
   ]
  },
  {
   "cell_type": "markdown",
   "id": "e646ae63",
   "metadata": {},
   "source": [
    "We are going to use the Human height and weight [dataset](http://wiki.stat.ucla.edu/socr/index.php/SOCR_Data_Dinov_020108_HeightsWeights#SOCR_Data_-_25.2C000_Records_of_Human_Heights_.28in.29_and_Weights_.28lbs.29) dataset by UCLA"
   ]
  },
  {
   "cell_type": "markdown",
   "id": "536a20d2",
   "metadata": {},
   "source": [
    "\n",
    "The dataset contains 25.000 entries of height and weights. We are going to use 200 samples of those individuals weight and height. The weight values are in pounds and the height values are in inches.\n",
    "Below we can see a snapshot of the data:\n"
   ]
  },
  {
   "cell_type": "code",
   "execution_count": 84,
   "id": "31df1755",
   "metadata": {},
   "outputs": [
    {
     "data": {
      "text/html": [
       "<div>\n",
       "<style scoped>\n",
       "    .dataframe tbody tr th:only-of-type {\n",
       "        vertical-align: middle;\n",
       "    }\n",
       "\n",
       "    .dataframe tbody tr th {\n",
       "        vertical-align: top;\n",
       "    }\n",
       "\n",
       "    .dataframe thead th {\n",
       "        text-align: right;\n",
       "    }\n",
       "</style>\n",
       "<table border=\"1\" class=\"dataframe\">\n",
       "  <thead>\n",
       "    <tr style=\"text-align: right;\">\n",
       "      <th></th>\n",
       "      <th>Height(Inches)</th>\n",
       "      <th>Weight(Pounds)</th>\n",
       "    </tr>\n",
       "  </thead>\n",
       "  <tbody>\n",
       "    <tr>\n",
       "      <th>0</th>\n",
       "      <td>65.78</td>\n",
       "      <td>112.99</td>\n",
       "    </tr>\n",
       "    <tr>\n",
       "      <th>1</th>\n",
       "      <td>71.52</td>\n",
       "      <td>136.49</td>\n",
       "    </tr>\n",
       "    <tr>\n",
       "      <th>2</th>\n",
       "      <td>69.40</td>\n",
       "      <td>153.03</td>\n",
       "    </tr>\n",
       "    <tr>\n",
       "      <th>3</th>\n",
       "      <td>68.22</td>\n",
       "      <td>142.34</td>\n",
       "    </tr>\n",
       "    <tr>\n",
       "      <th>4</th>\n",
       "      <td>67.79</td>\n",
       "      <td>144.30</td>\n",
       "    </tr>\n",
       "  </tbody>\n",
       "</table>\n",
       "</div>"
      ],
      "text/plain": [
       "   Height(Inches)  Weight(Pounds)\n",
       "0           65.78          112.99\n",
       "1           71.52          136.49\n",
       "2           69.40          153.03\n",
       "3           68.22          142.34\n",
       "4           67.79          144.30"
      ]
     },
     "execution_count": 84,
     "metadata": {},
     "output_type": "execute_result"
    }
   ],
   "source": [
    "# Creating a Dataframe\n",
    "df = pd.read_csv(\"weight-height-200.csv\")\n",
    "df.head()"
   ]
  },
  {
   "cell_type": "markdown",
   "id": "e6df2a8f",
   "metadata": {},
   "source": [
    "\n",
    "\n"
   ]
  },
  {
   "cell_type": "code",
   "execution_count": 85,
   "id": "a2250291",
   "metadata": {},
   "outputs": [
    {
     "data": {
      "text/html": [
       "<div>\n",
       "<style scoped>\n",
       "    .dataframe tbody tr th:only-of-type {\n",
       "        vertical-align: middle;\n",
       "    }\n",
       "\n",
       "    .dataframe tbody tr th {\n",
       "        vertical-align: top;\n",
       "    }\n",
       "\n",
       "    .dataframe thead th {\n",
       "        text-align: right;\n",
       "    }\n",
       "</style>\n",
       "<table border=\"1\" class=\"dataframe\">\n",
       "  <thead>\n",
       "    <tr style=\"text-align: right;\">\n",
       "      <th></th>\n",
       "      <th>Height(Inches)</th>\n",
       "      <th>Weight(Pounds)</th>\n",
       "    </tr>\n",
       "  </thead>\n",
       "  <tbody>\n",
       "    <tr>\n",
       "      <th>count</th>\n",
       "      <td>200.000000</td>\n",
       "      <td>200.000000</td>\n",
       "    </tr>\n",
       "    <tr>\n",
       "      <th>mean</th>\n",
       "      <td>67.949800</td>\n",
       "      <td>127.221950</td>\n",
       "    </tr>\n",
       "    <tr>\n",
       "      <th>std</th>\n",
       "      <td>1.940363</td>\n",
       "      <td>11.960959</td>\n",
       "    </tr>\n",
       "    <tr>\n",
       "      <th>min</th>\n",
       "      <td>63.430000</td>\n",
       "      <td>97.900000</td>\n",
       "    </tr>\n",
       "    <tr>\n",
       "      <th>25%</th>\n",
       "      <td>66.522500</td>\n",
       "      <td>119.895000</td>\n",
       "    </tr>\n",
       "    <tr>\n",
       "      <th>50%</th>\n",
       "      <td>67.935000</td>\n",
       "      <td>127.875000</td>\n",
       "    </tr>\n",
       "    <tr>\n",
       "      <th>75%</th>\n",
       "      <td>69.202500</td>\n",
       "      <td>136.097500</td>\n",
       "    </tr>\n",
       "    <tr>\n",
       "      <th>max</th>\n",
       "      <td>73.900000</td>\n",
       "      <td>158.960000</td>\n",
       "    </tr>\n",
       "  </tbody>\n",
       "</table>\n",
       "</div>"
      ],
      "text/plain": [
       "       Height(Inches)  Weight(Pounds)\n",
       "count      200.000000      200.000000\n",
       "mean        67.949800      127.221950\n",
       "std          1.940363       11.960959\n",
       "min         63.430000       97.900000\n",
       "25%         66.522500      119.895000\n",
       "50%         67.935000      127.875000\n",
       "75%         69.202500      136.097500\n",
       "max         73.900000      158.960000"
      ]
     },
     "execution_count": 85,
     "metadata": {},
     "output_type": "execute_result"
    }
   ],
   "source": [
    "df.describe()"
   ]
  },
  {
   "cell_type": "code",
   "execution_count": 86,
   "id": "6b3ee34d",
   "metadata": {},
   "outputs": [
    {
     "data": {
      "text/plain": [
       "Height(Inches)    0\n",
       "Weight(Pounds)    0\n",
       "dtype: int64"
      ]
     },
     "execution_count": 86,
     "metadata": {},
     "output_type": "execute_result"
    }
   ],
   "source": [
    "# Checking if there is missing data\n",
    "df.isnull().sum()"
   ]
  },
  {
   "cell_type": "code",
   "execution_count": 87,
   "id": "cad6e467",
   "metadata": {},
   "outputs": [],
   "source": [
    "# Allocating the height to x and the weight to y.\n",
    "x = df['Height(Inches)']\n",
    "y = df['Weight(Pounds)']\n"
   ]
  },
  {
   "cell_type": "code",
   "execution_count": 88,
   "id": "b48a5524",
   "metadata": {},
   "outputs": [
    {
     "data": {
      "image/png": "[encoded data removed]",
      "text/plain": [
       "<Figure size 1000x800 with 1 Axes>"
      ]
     },
     "metadata": {},
     "output_type": "display_data"
    }
   ],
   "source": [
    "# Plotting the original data\n",
    "plt.rcParams['figure.figsize'] = (10, 8)\n",
    "plt.plot(x,y,\"bo\", label=r\"Original Data\")\n",
    "plt.xlabel(\"Height\", size=\"14\")\n",
    "plt.ylabel(\"Weight\", size=\"14\")\n",
    "plt.grid()\n",
    "plt.legend()\n",
    "plt.show()\n"
   ]
  },
  {
   "cell_type": "code",
   "execution_count": null,
   "id": "471f75b0",
   "metadata": {},
   "outputs": [],
   "source": [
    "# Plotting the data on a histogram plot to show that the follows a normal distribution.\n",
    "\n",
    "fig, axs = plt.subplots(figsize=(15, 10), ncols=2)\n",
    "\n",
    "# Height\n",
    "axs[0].axvline(x.mean(), color='r', linestyle='dashed', linewidth=1)\n",
    "axs[0].set_title('Height', size=15)\n",
    "sns.histplot(kde=True, data=x, ax=axs[0], bins = 15)\n",
    "\n",
    "# Weight\n",
    "axs[1].axvline(y.mean(), color='r', linestyle='dashed', linewidth=1)\n",
    "axs[1].set_title('Weight', size=15)\n",
    "sns.histplot(kde=True, data=y, ax=axs[1], bins = 15)\n"
   ]
  },
  {
   "cell_type": "markdown",
   "id": "3278edc8",
   "metadata": {},
   "source": [
    "### Simple Linear Regression using least Square method"
   ]
  },
  {
   "cell_type": "code",
   "execution_count": null,
   "id": "1d40e259",
   "metadata": {},
   "outputs": [],
   "source": []
  },
  {
   "cell_type": "code",
   "execution_count": null,
   "id": "cefe5e48",
   "metadata": {},
   "outputs": [],
   "source": []
  },
  {
   "cell_type": "code",
   "execution_count": null,
   "id": "4bbb2ea6",
   "metadata": {},
   "outputs": [],
   "source": [
    "#Slicing down the data to make a easier to see plot.\n",
    "x_sample = df['Height(Inches)'][0:20]\n",
    "y_sample = df['Weight(Pounds)'][0:20]\n",
    "\n",
    "#Creating a array of the same size with the mean of y\n",
    "#y_sample_mean = np.full_like(y_sample, y_sample.mean())\n",
    "\n",
    "\n",
    "# Calculate the residuals\n",
    "# m= 1.0 and c =3.0\n",
    "residuals = y_sample - (2 * x_sample + 4)\n",
    "\n",
    "# Create the plot\n",
    "#Plot with the original datapoints\n",
    "plt.scatter(x_sample, y_sample, label='Data points')\n",
    "#Line plot\n",
    "plt.plot(x_sample, (2 * x_sample + 4), 'r', label='Least Square Line')\n",
    "\n",
    " #Plot checked lines showing residuals\n",
    "for x_sample_i, y_sample_i, res in zip(x_sample, y_sample, residuals):\n",
    "    plt.plot([x_sample_i, x_sample_i], [(2 * x_sample_i + 4), y_sample_i], 'k--', linewidth=1)\n",
    "   \n",
    "    \n",
    "plt.xlabel('X')\n",
    "plt.ylabel('Y')\n",
    "plt.title('Least Square Method Demonstration with Residuals')\n",
    "plt.legend()\n",
    "plt.grid(True)\n",
    "plt.show()\n",
    "residual = sum(residuals**2)\n",
    "residual"
   ]
  },
  {
   "cell_type": "markdown",
   "id": "607c2b26",
   "metadata": {},
   "source": [
    "\n",
    "$$ Cost(m, c) = \\sum_i (y_i - mx_i - c)^2 $$"
   ]
  },
  {
   "cell_type": "code",
   "execution_count": null,
   "id": "d5598342",
   "metadata": {},
   "outputs": [],
   "source": []
  },
  {
   "cell_type": "code",
   "execution_count": null,
   "id": "4a9c2c06",
   "metadata": {},
   "outputs": [],
   "source": []
  },
  {
   "cell_type": "code",
   "execution_count": 138,
   "id": "c207f9e5",
   "metadata": {},
   "outputs": [
    {
     "data": {
      "text/plain": [
       "4342.981400000001"
      ]
     },
     "execution_count": 138,
     "metadata": {},
     "output_type": "execute_result"
    }
   ],
   "source": [
    "def cost(MC):\n",
    "    m,c = MC\n",
    "    cost = np.sum((y_sample - m * x_sample - c)**2)\n",
    "    return cost\n",
    "cost((2.0,4.0))"
   ]
  },
  {
   "cell_type": "code",
   "execution_count": 127,
   "id": "9e42eb93",
   "metadata": {},
   "outputs": [
    {
     "data": {
      "text/plain": [
       "  message: Desired error not necessarily achieved due to precision loss.\n",
       "  success: False\n",
       "   status: 2\n",
       "      fun: 19641.39307890022\n",
       "        x: [ 3.433e+00 -1.060e+02]\n",
       "      nit: 3\n",
       "      jac: [ 1.465e-03  0.000e+00]\n",
       " hess_inv: [[ 6.673e-04 -4.535e-02]\n",
       "            [-4.535e-02  3.084e+00]]\n",
       "     nfev: 129\n",
       "     njev: 39"
      ]
     },
     "execution_count": 127,
     "metadata": {},
     "output_type": "execute_result"
    }
   ],
   "source": [
    "result = so.minimize(cost, (2.0,4.0))\n",
    "result"
   ]
  },
  {
   "cell_type": "code",
   "execution_count": null,
   "id": "bd86a10a",
   "metadata": {},
   "outputs": [],
   "source": []
  },
  {
   "cell_type": "code",
   "execution_count": null,
   "id": "460f7c8a",
   "metadata": {},
   "outputs": [],
   "source": []
  },
  {
   "cell_type": "code",
   "execution_count": null,
   "id": "a3adba79",
   "metadata": {},
   "outputs": [],
   "source": []
  },
  {
   "cell_type": "markdown",
   "id": "ed6f84d7",
   "metadata": {},
   "source": [
    "The least squares method is one of the ways that can be used to find the values o **m** and **c**. Below there is the mathematical formula that can be used to calculate the values of **m** and **c**. Where $\\bar{x}$ is the mean of $x$ and $\\bar{y}$ is the mean of $y$."
   ]
  },
  {
   "cell_type": "markdown",
   "id": "226ac287",
   "metadata": {},
   "source": [
    "$$ m = \\frac{\\sum_i (x_i - \\bar{x}) (y_i - \\bar{y})}{\\sum_i (x_i - \\bar{x})^2} \\qquad$$\n",
    "\n"
   ]
  },
  {
   "cell_type": "markdown",
   "id": "4126bb57",
   "metadata": {},
   "source": [
    "We can write the formula above can be written as code. First we will calculate the means for x and y.  After that, we need to subtract the means of x and y from each individual x and y value, shown in the mathematical formula as $x_i$ and $y_i$."
   ]
  },
  {
   "cell_type": "code",
   "execution_count": 12,
   "id": "583ca7b1",
   "metadata": {},
   "outputs": [],
   "source": [
    "# Mean from x and y\n",
    "x_mean = np.mean(x)\n",
    "y_mean = np.mean(y)\n",
    "\n",
    "# Subtracting the means from x and y\n",
    "x_minus_mean = x - x_mean\n",
    "y_minus_mean = y - y_mean"
   ]
  },
  {
   "cell_type": "markdown",
   "id": "7e17b2aa",
   "metadata": {},
   "source": [
    "After that we multiply each value of x minus the mean of x $(x_i - \\bar{x})$ by each value of y minus the mean of y $(y_i - \\bar{y})$ and sum each one of the resulting values together. And divide this value by the sum of the square difference of each value of x minus the mean of x $(x_i - \\bar{x})^2$.\n",
    "The final result will be our best fit m value."
   ]
  },
  {
   "cell_type": "code",
   "execution_count": 13,
   "id": "16797dec",
   "metadata": {},
   "outputs": [
    {
     "name": "stdout",
     "output_type": "stream",
     "text": [
      "m is equal to 3.432676.\n"
     ]
    }
   ],
   "source": [
    "\n",
    "# The best m is found by the following calculation.\n",
    "m = np.sum(x_minus_mean * y_minus_mean) / np.sum(x_minus_mean * x_minus_mean)\n",
    "print(\"m is equal to %8.6f.\" % (m))"
   ]
  },
  {
   "cell_type": "markdown",
   "id": "a4542ced",
   "metadata": {},
   "source": [
    "The value of $c$ is found by getting the mean of $y$ minus the value of m multiplied by the mean value of $x$."
   ]
  },
  {
   "cell_type": "markdown",
   "id": "17937ca7",
   "metadata": {},
   "source": [
    "$$c = \\bar{y} - m \\bar{x} $$"
   ]
  },
  {
   "cell_type": "code",
   "execution_count": 14,
   "id": "877533fc",
   "metadata": {},
   "outputs": [
    {
     "name": "stdout",
     "output_type": "stream",
     "text": [
      "c is equal to -106.027706.\n"
     ]
    }
   ],
   "source": [
    "# Using m to calculate the best value for c.\n",
    "c = y_mean - m * x_mean\n",
    "\n",
    "print(\"c is equal to %6.6f.\" % (c))"
   ]
  },
  {
   "cell_type": "markdown",
   "id": "7f21a872",
   "metadata": {},
   "source": []
  },
  {
   "cell_type": "markdown",
   "id": "9d3cf109",
   "metadata": {},
   "source": []
  },
  {
   "cell_type": "code",
   "execution_count": null,
   "id": "8776308d",
   "metadata": {},
   "outputs": [],
   "source": []
  },
  {
   "cell_type": "code",
   "execution_count": null,
   "id": "bb559808",
   "metadata": {},
   "outputs": [],
   "source": []
  },
  {
   "cell_type": "code",
   "execution_count": null,
   "id": "81f54ebe",
   "metadata": {},
   "outputs": [],
   "source": []
  },
  {
   "cell_type": "code",
   "execution_count": null,
   "id": "a8e1ffcb",
   "metadata": {},
   "outputs": [],
   "source": []
  },
  {
   "cell_type": "code",
   "execution_count": null,
   "id": "4b011cf4",
   "metadata": {},
   "outputs": [],
   "source": []
  },
  {
   "cell_type": "code",
   "execution_count": 16,
   "id": "303c2e0f",
   "metadata": {},
   "outputs": [],
   "source": []
  },
  {
   "cell_type": "code",
   "execution_count": 19,
   "id": "f0848973",
   "metadata": {},
   "outputs": [
    {
     "data": {
      "image/png": "[encoded data removed]",
      "text/plain": [
       "<Figure size 1000x800 with 1 Axes>"
      ]
     },
     "metadata": {},
     "output_type": "display_data"
    },
    {
     "data": {
      "text/plain": [
       "0      65.78\n",
       "1      71.52\n",
       "2      69.40\n",
       "3      68.22\n",
       "4      67.79\n",
       "       ...  \n",
       "195    65.80\n",
       "196    66.11\n",
       "197    68.24\n",
       "198    68.02\n",
       "199    71.39\n",
       "Name: Height(Inches), Length: 200, dtype: float64"
      ]
     },
     "execution_count": 19,
     "metadata": {},
     "output_type": "execute_result"
    }
   ],
   "source": []
  },
  {
   "cell_type": "code",
   "execution_count": null,
   "id": "cb31a29e",
   "metadata": {},
   "outputs": [],
   "source": []
  },
  {
   "cell_type": "code",
   "execution_count": null,
   "id": "34f5d958",
   "metadata": {},
   "outputs": [],
   "source": []
  },
  {
   "cell_type": "markdown",
   "id": "934f52be",
   "metadata": {},
   "source": [
    "\n",
    "Below we can see the analytical calculation to find the best value for m and c\n"
   ]
  },
  {
   "cell_type": "code",
   "execution_count": 29,
   "id": "a2e71c53",
   "metadata": {},
   "outputs": [],
   "source": [
    "# Mean from x and y\n",
    "x_mean = np.mean(x)\n",
    "y_mean = np.mean(y)\n",
    "\n",
    "# Subtracting the means from x and y\n",
    "x_minus_mean = x - x_mean\n",
    "y_minus_mean = y - y_mean\n",
    "\n",
    "# The best m is found by the following calculation.\n",
    "m = np.sum(x_minus_mean * y_minus_mean) / np.sum(x_minus_mean * x_minus_mean)"
   ]
  },
  {
   "cell_type": "code",
   "execution_count": 30,
   "id": "146fa9e5",
   "metadata": {},
   "outputs": [
    {
     "name": "stdout",
     "output_type": "stream",
     "text": [
      "m is equal to 3.432676 and c is equal to -106.027706.\n"
     ]
    }
   ],
   "source": [
    "# Use m from above to calculate the best c.\n",
    "c = y_mean - m * x_mean\n",
    "\n",
    "print(\"m is equal to %8.6f and c is equal to %6.6f.\" % (m, c))"
   ]
  },
  {
   "cell_type": "code",
   "execution_count": null,
   "id": "00da03ac",
   "metadata": {},
   "outputs": [],
   "source": []
  },
  {
   "cell_type": "markdown",
   "id": "f888d8ab",
   "metadata": {},
   "source": [
    "There is also other ways to find the best values for m and c, one of them is the function  [numpy.polyfit]( https://numpy.org/doc/stable/reference/generated/numpy.polyfit.html)."
   ]
  },
  {
   "cell_type": "markdown",
   "id": "f98883d3",
   "metadata": {},
   "source": [
    "### Using Numpy"
   ]
  },
  {
   "cell_type": "markdown",
   "id": "8413d126",
   "metadata": {},
   "source": [
    "The numpy.polyfit function takes the value of x and y as well as the degree of the polynomial and return the values of m and c. In our case with the linear regression the degree of the polynomial is 1. Since the linear regression formula is $y = mx +c$ and the degree of a polynomial is defined by the [power of the variable part]( https://youtu.be/ffLLmV4mZwU?t=372)."
   ]
  },
  {
   "cell_type": "code",
   "execution_count": null,
   "id": "a5e12487",
   "metadata": {},
   "outputs": [],
   "source": []
  },
  {
   "cell_type": "code",
   "execution_count": 31,
   "id": "6596645c",
   "metadata": {},
   "outputs": [
    {
     "data": {
      "text/plain": [
       "array([   3.43267613, -106.02770645])"
      ]
     },
     "execution_count": 31,
     "metadata": {},
     "output_type": "execute_result"
    }
   ],
   "source": [
    "np.polyfit(x, y,1)"
   ]
  },
  {
   "cell_type": "markdown",
   "id": "10f9f51f",
   "metadata": {},
   "source": [
    "As we can see above we got the same result using the polyfit function, which confirms that our calculate best value for m and c are correct."
   ]
  },
  {
   "cell_type": "markdown",
   "id": "3ff8b91a",
   "metadata": {},
   "source": [
    "## Scipy"
   ]
  },
  {
   "cell_type": "code",
   "execution_count": 32,
   "id": "6112ce59",
   "metadata": {},
   "outputs": [],
   "source": [
    "# use the scipy function for linear distribuition and explain how it works and what parameters it takes"
   ]
  },
  {
   "cell_type": "code",
   "execution_count": 33,
   "id": "1296c81e",
   "metadata": {},
   "outputs": [],
   "source": [
    "m, c, r_value, p_value, stder = ss.linregress(x,y)"
   ]
  },
  {
   "cell_type": "code",
   "execution_count": 34,
   "id": "7bfa6d06",
   "metadata": {},
   "outputs": [
    {
     "name": "stdout",
     "output_type": "stream",
     "text": [
      "m is equal to 3.432676 and c is equal to -106.027706.\n"
     ]
    }
   ],
   "source": [
    "print(\"m is equal to %8.6f and c is equal to %6.6f.\" % (m, c))"
   ]
  },
  {
   "cell_type": "code",
   "execution_count": null,
   "id": "ad4f020f",
   "metadata": {},
   "outputs": [],
   "source": []
  },
  {
   "cell_type": "code",
   "execution_count": null,
   "id": "be6fe1c0",
   "metadata": {},
   "outputs": [],
   "source": []
  },
  {
   "cell_type": "code",
   "execution_count": null,
   "id": "cce38004",
   "metadata": {},
   "outputs": [],
   "source": []
  },
  {
   "cell_type": "markdown",
   "id": "09f16298",
   "metadata": {},
   "source": [
    "### So.minimize"
   ]
  },
  {
   "cell_type": "code",
   "execution_count": 54,
   "id": "6bd75f3c",
   "metadata": {},
   "outputs": [],
   "source": [
    "def cost(MC):\n",
    "    m,c = MC\n",
    "    cost = np.sum((y - m * x - c)**2)\n",
    "    return cost"
   ]
  },
  {
   "cell_type": "code",
   "execution_count": 55,
   "id": "926b4ce7",
   "metadata": {},
   "outputs": [
    {
     "data": {
      "text/plain": [
       "  message: Optimization terminated successfully.\n",
       "  success: True\n",
       "   status: 0\n",
       "      fun: 19641.393078913097\n",
       "        x: [ 3.433e+00 -1.060e+02]\n",
       "      nit: 5\n",
       "      jac: [ 0.000e+00  0.000e+00]\n",
       " hess_inv: [[ 4.451e-04 -3.023e-02]\n",
       "            [-3.023e-02  2.056e+00]]\n",
       "     nfev: 42\n",
       "     njev: 14"
      ]
     },
     "execution_count": 55,
     "metadata": {},
     "output_type": "execute_result"
    }
   ],
   "source": [
    "result = so.minimize(cost, (2.0,2.0))\n",
    "result"
   ]
  },
  {
   "cell_type": "code",
   "execution_count": null,
   "id": "cf07e92a",
   "metadata": {},
   "outputs": [],
   "source": []
  },
  {
   "cell_type": "code",
   "execution_count": null,
   "id": "c55961ff",
   "metadata": {},
   "outputs": [],
   "source": []
  },
  {
   "cell_type": "code",
   "execution_count": null,
   "id": "5c78426b",
   "metadata": {},
   "outputs": [],
   "source": []
  },
  {
   "cell_type": "code",
   "execution_count": null,
   "id": "6122414d",
   "metadata": {},
   "outputs": [],
   "source": []
  },
  {
   "cell_type": "code",
   "execution_count": 46,
   "id": "181bfbcc",
   "metadata": {},
   "outputs": [],
   "source": [
    "## Plot for the best fit line"
   ]
  },
  {
   "cell_type": "code",
   "execution_count": null,
   "id": "b81b711b",
   "metadata": {},
   "outputs": [],
   "source": []
  },
  {
   "cell_type": "code",
   "execution_count": 47,
   "id": "2c3a95a7",
   "metadata": {},
   "outputs": [],
   "source": [
    "best_fit_line = (m * x)+ c"
   ]
  },
  {
   "cell_type": "code",
   "execution_count": 58,
   "id": "c99cd262",
   "metadata": {},
   "outputs": [
    {
     "data": {
      "image/png": "[encoded data removed]",
      "text/plain": [
       "<Figure size 1000x800 with 1 Axes>"
      ]
     },
     "metadata": {},
     "output_type": "display_data"
    }
   ],
   "source": [
    "plt.rcParams['figure.figsize'] = (10, 8)\n",
    "plt.plot(x,y,\"bo\", label=r\"Actual Data\")\n",
    "plt.xlabel(\"Weight\", size=\"14\")\n",
    "plt.ylabel(\"Height\", size=\"14\")\n",
    "plt.grid()\n",
    "\n",
    "#Setting the limit of the plot so the last value of Y and X is the end of the plot\n",
    "\n",
    "#Plotting different lines to to try to find the best one\n",
    "\n",
    "plt.plot(x,best_fit_line,\"r-\", label=r\"Least Square Fit\")\n",
    "\n",
    "\n",
    "plt.legend()\n",
    "\n",
    "plt.show()\n",
    "\n"
   ]
  },
  {
   "cell_type": "code",
   "execution_count": null,
   "id": "2394e93a",
   "metadata": {},
   "outputs": [],
   "source": []
  },
  {
   "cell_type": "code",
   "execution_count": null,
   "id": "226f6343",
   "metadata": {},
   "outputs": [],
   "source": []
  },
  {
   "cell_type": "code",
   "execution_count": null,
   "id": "ec4fb3a8",
   "metadata": {},
   "outputs": [],
   "source": []
  }
 ],
 "metadata": {
  "kernelspec": {
   "display_name": "Python 3 (ipykernel)",
   "language": "python",
   "name": "python3"
  },
  "language_info": {
   "codemirror_mode": {
    "name": "ipython",
    "version": 3
   },
   "file_extension": ".py",
   "mimetype": "text/x-python",
   "name": "python",
   "nbconvert_exporter": "python",
   "pygments_lexer": "ipython3",
   "version": "3.10.9"
  }
 },
 "nbformat": 4,
 "nbformat_minor": 5
}
