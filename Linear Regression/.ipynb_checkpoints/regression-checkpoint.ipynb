{
 "cells": [
  {
   "cell_type": "code",
   "execution_count": 37,
   "id": "25615a4a",
   "metadata": {},
   "outputs": [],
   "source": [
    "import pandas as pd\n",
    "import numpy as np\n",
    "import matplotlib.pyplot as plt\n",
    "import scipy.optimize as so\n",
    "import scipy.stats as ss"
   ]
  },
  {
   "cell_type": "markdown",
   "id": "bad26e9d",
   "metadata": {},
   "source": [
    "## Linear Regression"
   ]
  },
  {
   "cell_type": "markdown",
   "id": "aa2b4940",
   "metadata": {},
   "source": [
    "Linear regression is used to predict a variable, lets call it based on one or more other variables. In the case of a simple linear regression which the formula is $y = mx +c$, where:\n",
    "\n",
    "**y** is the dependent variable as its value influenced by the values of the other variables.\n",
    "\n",
    "**x** is the independent variable.\n",
    "\n",
    "**m** is the slope of the line.\n",
    "\n",
    "And **c** is called the y intercept as it represents the value of y when x=0.\n",
    "\n",
    "\n",
    "We can predict the value or y based on the value of x.  One of its main advantages is the ease of interpreting results and predicting results. \n",
    "\n",
    "This is done by estimating the values of m and c that minimize the difference between the observed values of the dependent variable and the predicted values given by the line created by the linear regression function. This is usually done using a method called the least squares method.\n",
    "\n"
   ]
  },
  {
   "cell_type": "markdown",
   "id": "83c5306e",
   "metadata": {},
   "source": []
  },
  {
   "cell_type": "markdown",
   "id": "2dd752ce",
   "metadata": {},
   "source": [
    "### Importing, preparing and exploring the data "
   ]
  },
  {
   "cell_type": "code",
   "execution_count": 5,
   "id": "31df1755",
   "metadata": {},
   "outputs": [
    {
     "data": {
      "text/html": [
       "<div>\n",
       "<style scoped>\n",
       "    .dataframe tbody tr th:only-of-type {\n",
       "        vertical-align: middle;\n",
       "    }\n",
       "\n",
       "    .dataframe tbody tr th {\n",
       "        vertical-align: top;\n",
       "    }\n",
       "\n",
       "    .dataframe thead th {\n",
       "        text-align: right;\n",
       "    }\n",
       "</style>\n",
       "<table border=\"1\" class=\"dataframe\">\n",
       "  <thead>\n",
       "    <tr style=\"text-align: right;\">\n",
       "      <th></th>\n",
       "      <th>Height(Inches)</th>\n",
       "      <th>Weight(Pounds)</th>\n",
       "    </tr>\n",
       "  </thead>\n",
       "  <tbody>\n",
       "    <tr>\n",
       "      <th>0</th>\n",
       "      <td>65.78</td>\n",
       "      <td>112.99</td>\n",
       "    </tr>\n",
       "    <tr>\n",
       "      <th>1</th>\n",
       "      <td>71.52</td>\n",
       "      <td>136.49</td>\n",
       "    </tr>\n",
       "    <tr>\n",
       "      <th>2</th>\n",
       "      <td>69.40</td>\n",
       "      <td>153.03</td>\n",
       "    </tr>\n",
       "    <tr>\n",
       "      <th>3</th>\n",
       "      <td>68.22</td>\n",
       "      <td>142.34</td>\n",
       "    </tr>\n",
       "    <tr>\n",
       "      <th>4</th>\n",
       "      <td>67.79</td>\n",
       "      <td>144.30</td>\n",
       "    </tr>\n",
       "  </tbody>\n",
       "</table>\n",
       "</div>"
      ],
      "text/plain": [
       "   Height(Inches)  Weight(Pounds)\n",
       "0           65.78          112.99\n",
       "1           71.52          136.49\n",
       "2           69.40          153.03\n",
       "3           68.22          142.34\n",
       "4           67.79          144.30"
      ]
     },
     "execution_count": 5,
     "metadata": {},
     "output_type": "execute_result"
    }
   ],
   "source": [
    "# Creating a Dataframe\n",
    "df = pd.read_csv(\"weight-height-200.csv\")\n",
    "df.head()"
   ]
  },
  {
   "cell_type": "markdown",
   "id": "e6df2a8f",
   "metadata": {},
   "source": [
    "\n",
    "The dataset is composed of 200 samples of individuals weight and height. The weight values are in pounds and the height values are in inches.\n"
   ]
  },
  {
   "cell_type": "code",
   "execution_count": 6,
   "id": "145dd7c9",
   "metadata": {},
   "outputs": [
    {
     "data": {
      "text/html": [
       "<div>\n",
       "<style scoped>\n",
       "    .dataframe tbody tr th:only-of-type {\n",
       "        vertical-align: middle;\n",
       "    }\n",
       "\n",
       "    .dataframe tbody tr th {\n",
       "        vertical-align: top;\n",
       "    }\n",
       "\n",
       "    .dataframe thead th {\n",
       "        text-align: right;\n",
       "    }\n",
       "</style>\n",
       "<table border=\"1\" class=\"dataframe\">\n",
       "  <thead>\n",
       "    <tr style=\"text-align: right;\">\n",
       "      <th></th>\n",
       "      <th>Height(Inches)</th>\n",
       "      <th>Weight(Pounds)</th>\n",
       "    </tr>\n",
       "  </thead>\n",
       "  <tbody>\n",
       "    <tr>\n",
       "      <th>Height(Inches)</th>\n",
       "      <td>1.000000</td>\n",
       "      <td>0.556865</td>\n",
       "    </tr>\n",
       "    <tr>\n",
       "      <th>Weight(Pounds)</th>\n",
       "      <td>0.556865</td>\n",
       "      <td>1.000000</td>\n",
       "    </tr>\n",
       "  </tbody>\n",
       "</table>\n",
       "</div>"
      ],
      "text/plain": [
       "                Height(Inches)  Weight(Pounds)\n",
       "Height(Inches)        1.000000        0.556865\n",
       "Weight(Pounds)        0.556865        1.000000"
      ]
     },
     "execution_count": 6,
     "metadata": {},
     "output_type": "execute_result"
    }
   ],
   "source": [
    "df.corr()"
   ]
  },
  {
   "cell_type": "code",
   "execution_count": 7,
   "id": "a2250291",
   "metadata": {},
   "outputs": [
    {
     "data": {
      "text/html": [
       "<div>\n",
       "<style scoped>\n",
       "    .dataframe tbody tr th:only-of-type {\n",
       "        vertical-align: middle;\n",
       "    }\n",
       "\n",
       "    .dataframe tbody tr th {\n",
       "        vertical-align: top;\n",
       "    }\n",
       "\n",
       "    .dataframe thead th {\n",
       "        text-align: right;\n",
       "    }\n",
       "</style>\n",
       "<table border=\"1\" class=\"dataframe\">\n",
       "  <thead>\n",
       "    <tr style=\"text-align: right;\">\n",
       "      <th></th>\n",
       "      <th>Height(Inches)</th>\n",
       "      <th>Weight(Pounds)</th>\n",
       "    </tr>\n",
       "  </thead>\n",
       "  <tbody>\n",
       "    <tr>\n",
       "      <th>count</th>\n",
       "      <td>200.000000</td>\n",
       "      <td>200.000000</td>\n",
       "    </tr>\n",
       "    <tr>\n",
       "      <th>mean</th>\n",
       "      <td>67.949800</td>\n",
       "      <td>127.221950</td>\n",
       "    </tr>\n",
       "    <tr>\n",
       "      <th>std</th>\n",
       "      <td>1.940363</td>\n",
       "      <td>11.960959</td>\n",
       "    </tr>\n",
       "    <tr>\n",
       "      <th>min</th>\n",
       "      <td>63.430000</td>\n",
       "      <td>97.900000</td>\n",
       "    </tr>\n",
       "    <tr>\n",
       "      <th>25%</th>\n",
       "      <td>66.522500</td>\n",
       "      <td>119.895000</td>\n",
       "    </tr>\n",
       "    <tr>\n",
       "      <th>50%</th>\n",
       "      <td>67.935000</td>\n",
       "      <td>127.875000</td>\n",
       "    </tr>\n",
       "    <tr>\n",
       "      <th>75%</th>\n",
       "      <td>69.202500</td>\n",
       "      <td>136.097500</td>\n",
       "    </tr>\n",
       "    <tr>\n",
       "      <th>max</th>\n",
       "      <td>73.900000</td>\n",
       "      <td>158.960000</td>\n",
       "    </tr>\n",
       "  </tbody>\n",
       "</table>\n",
       "</div>"
      ],
      "text/plain": [
       "       Height(Inches)  Weight(Pounds)\n",
       "count      200.000000      200.000000\n",
       "mean        67.949800      127.221950\n",
       "std          1.940363       11.960959\n",
       "min         63.430000       97.900000\n",
       "25%         66.522500      119.895000\n",
       "50%         67.935000      127.875000\n",
       "75%         69.202500      136.097500\n",
       "max         73.900000      158.960000"
      ]
     },
     "execution_count": 7,
     "metadata": {},
     "output_type": "execute_result"
    }
   ],
   "source": [
    "df.describe()"
   ]
  },
  {
   "cell_type": "code",
   "execution_count": 8,
   "id": "6b3ee34d",
   "metadata": {},
   "outputs": [
    {
     "data": {
      "text/plain": [
       "Height(Inches)    0\n",
       "Weight(Pounds)    0\n",
       "dtype: int64"
      ]
     },
     "execution_count": 8,
     "metadata": {},
     "output_type": "execute_result"
    }
   ],
   "source": [
    "# Checking if there is any empty fields\n",
    "df.isnull().sum()"
   ]
  },
  {
   "cell_type": "code",
   "execution_count": 9,
   "id": "cad6e467",
   "metadata": {},
   "outputs": [],
   "source": [
    "# Allocating the height to x and the weight to y.\n",
    "x = df['Weight(Pounds)']\n",
    "y = df['Height(Inches)']\n"
   ]
  },
  {
   "cell_type": "code",
   "execution_count": 10,
   "id": "b48a5524",
   "metadata": {},
   "outputs": [
    {
     "data": {
      "text/plain": [
       "<matplotlib.collections.PathCollection at 0x268cfafe560>"
      ]
     },
     "execution_count": 10,
     "metadata": {},
     "output_type": "execute_result"
    },
    {
     "data": {
      "image/png": "[encoded data removed]",
      "text/plain": [
       "<Figure size 640x480 with 1 Axes>"
      ]
     },
     "metadata": {},
     "output_type": "display_data"
    }
   ],
   "source": [
    "plt.scatter(x,y)"
   ]
  },
  {
   "cell_type": "code",
   "execution_count": null,
   "id": "471f75b0",
   "metadata": {},
   "outputs": [],
   "source": []
  },
  {
   "cell_type": "code",
   "execution_count": null,
   "id": "0ed75cd5",
   "metadata": {},
   "outputs": [],
   "source": []
  },
  {
   "cell_type": "markdown",
   "id": "3278edc8",
   "metadata": {},
   "source": [
    "### Simple Linear Regression using least Square method"
   ]
  },
  {
   "cell_type": "code",
   "execution_count": null,
   "id": "1d40e259",
   "metadata": {},
   "outputs": [],
   "source": []
  },
  {
   "cell_type": "code",
   "execution_count": null,
   "id": "cefe5e48",
   "metadata": {},
   "outputs": [],
   "source": []
  },
  {
   "cell_type": "code",
   "execution_count": null,
   "id": "4bbb2ea6",
   "metadata": {},
   "outputs": [],
   "source": []
  },
  {
   "cell_type": "code",
   "execution_count": null,
   "id": "1da819b3",
   "metadata": {},
   "outputs": [],
   "source": []
  },
  {
   "cell_type": "code",
   "execution_count": null,
   "id": "d5598342",
   "metadata": {},
   "outputs": [],
   "source": []
  },
  {
   "cell_type": "code",
   "execution_count": null,
   "id": "4a9c2c06",
   "metadata": {},
   "outputs": [],
   "source": []
  },
  {
   "cell_type": "markdown",
   "id": "ed6f84d7",
   "metadata": {},
   "source": [
    "The least squares method is one of the ways that can be used to find the values o **m** and **c**. Below there is the mathematical formula that can be used to calculate the values of **m** and **c**. Where $\\bar{x}$ is the mean of $x$ and $\\bar{y}$ is the mean of $y$."
   ]
  },
  {
   "cell_type": "markdown",
   "id": "226ac287",
   "metadata": {},
   "source": [
    "$$ m = \\frac{\\sum_i (x_i - \\bar{x}) (y_i - \\bar{y})}{\\sum_i (x_i - \\bar{x})^2} \\qquad$$\n",
    "\n"
   ]
  },
  {
   "cell_type": "code",
   "execution_count": null,
   "id": "c36a4d82",
   "metadata": {},
   "outputs": [],
   "source": []
  },
  {
   "cell_type": "markdown",
   "id": "4126bb57",
   "metadata": {},
   "source": [
    "We can write the formula above can be written as code. First we will calculate the means for x and y.  After that, we need to subtract the means of x and y from each individual x and y value, shown in the mathematical formula as $x_i$ and $y_i$."
   ]
  },
  {
   "cell_type": "code",
   "execution_count": 13,
   "id": "583ca7b1",
   "metadata": {},
   "outputs": [],
   "source": [
    "# Mean from x and y\n",
    "x_mean = np.mean(x)\n",
    "y_mean = np.mean(y)\n",
    "\n",
    "# Subtracting the means from x and y\n",
    "x_minus_mean = x - x_mean\n",
    "y_minus_mean = y - y_mean"
   ]
  },
  {
   "cell_type": "markdown",
   "id": "7e17b2aa",
   "metadata": {},
   "source": [
    "After that we multiply each value of x minus the mean of x $(x_i - \\bar{x})$ by each value of y minus the mean of y $(y_i - \\bar{y})$ and sum each one of the resulting values together. And divide this value by the sum of the square difference of each value of x minus the mean of x $(x_i - \\bar{x})^2$.\n",
    "The final result will be our best fit m value."
   ]
  },
  {
   "cell_type": "code",
   "execution_count": 15,
   "id": "16797dec",
   "metadata": {},
   "outputs": [
    {
     "name": "stdout",
     "output_type": "stream",
     "text": [
      "m is equal to 0.090337.\n"
     ]
    }
   ],
   "source": [
    "\n",
    "# The best m is found by the following calculation.\n",
    "m = np.sum(x_minus_mean * y_minus_mean) / np.sum(x_minus_mean * x_minus_mean)\n",
    "print(\"m is equal to %8.6f.\" % (m))"
   ]
  },
  {
   "cell_type": "markdown",
   "id": "a4542ced",
   "metadata": {},
   "source": [
    "The value of $c$ is found by getting the mean of $y$ minus the value of m multiplied by the mean value of $x$."
   ]
  },
  {
   "cell_type": "markdown",
   "id": "17937ca7",
   "metadata": {},
   "source": [
    "$$c = \\bar{y} - m \\bar{x} $$"
   ]
  },
  {
   "cell_type": "code",
   "execution_count": 16,
   "id": "877533fc",
   "metadata": {},
   "outputs": [
    {
     "name": "stdout",
     "output_type": "stream",
     "text": [
      "c is equal to 56.456926.\n"
     ]
    }
   ],
   "source": [
    "# Using m to calculate the best value for c.\n",
    "c = y_mean - m * x_mean\n",
    "\n",
    "print(\"c is equal to %6.6f.\" % (c))"
   ]
  },
  {
   "cell_type": "markdown",
   "id": "7f21a872",
   "metadata": {},
   "source": []
  },
  {
   "cell_type": "markdown",
   "id": "9d3cf109",
   "metadata": {},
   "source": []
  },
  {
   "cell_type": "code",
   "execution_count": null,
   "id": "8776308d",
   "metadata": {},
   "outputs": [],
   "source": []
  },
  {
   "cell_type": "code",
   "execution_count": null,
   "id": "bb559808",
   "metadata": {},
   "outputs": [],
   "source": []
  },
  {
   "cell_type": "code",
   "execution_count": null,
   "id": "34f5d958",
   "metadata": {},
   "outputs": [],
   "source": []
  },
  {
   "cell_type": "markdown",
   "id": "934f52be",
   "metadata": {},
   "source": [
    "\n",
    "Below we can see the analytical calculation to find the best value for m and c\n"
   ]
  },
  {
   "cell_type": "code",
   "execution_count": 52,
   "id": "a2e71c53",
   "metadata": {},
   "outputs": [],
   "source": [
    "# Mean from x and y\n",
    "x_mean = np.mean(x)\n",
    "y_mean = np.mean(y)\n",
    "\n",
    "# Subtracting the means from x and y\n",
    "x_minus_mean = x - x_mean\n",
    "y_minus_mean = y - y_mean\n",
    "\n",
    "# The best m is found by the following calculation.\n",
    "m = np.sum(x_minus_mean * y_minus_mean) / np.sum(x_minus_mean * x_minus_mean)"
   ]
  },
  {
   "cell_type": "code",
   "execution_count": 53,
   "id": "146fa9e5",
   "metadata": {},
   "outputs": [
    {
     "name": "stdout",
     "output_type": "stream",
     "text": [
      "m is equal to 0.090337 and c is equal to 56.456926.\n"
     ]
    }
   ],
   "source": [
    "# Use m from above to calculate the best c.\n",
    "c = y_mean - m * x_mean\n",
    "\n",
    "print(\"m is equal to %8.6f and c is equal to %6.6f.\" % (m, c))"
   ]
  },
  {
   "cell_type": "code",
   "execution_count": null,
   "id": "00da03ac",
   "metadata": {},
   "outputs": [],
   "source": []
  },
  {
   "cell_type": "markdown",
   "id": "f888d8ab",
   "metadata": {},
   "source": [
    "There is also other ways to find the best values for m and c, one of them is the function  [numpy.polyfit]( https://numpy.org/doc/stable/reference/generated/numpy.polyfit.html)."
   ]
  },
  {
   "cell_type": "code",
   "execution_count": null,
   "id": "f3868df2",
   "metadata": {},
   "outputs": [],
   "source": []
  },
  {
   "cell_type": "code",
   "execution_count": null,
   "id": "aa46309e",
   "metadata": {},
   "outputs": [],
   "source": []
  },
  {
   "cell_type": "markdown",
   "id": "f98883d3",
   "metadata": {},
   "source": [
    "### Using Numpy"
   ]
  },
  {
   "cell_type": "code",
   "execution_count": 18,
   "id": "6596645c",
   "metadata": {},
   "outputs": [
    {
     "data": {
      "text/plain": [
       "array([ 0.09033719, 56.4569259 ])"
      ]
     },
     "execution_count": 18,
     "metadata": {},
     "output_type": "execute_result"
    }
   ],
   "source": [
    "np.polyfit(x, y,1)"
   ]
  },
  {
   "cell_type": "markdown",
   "id": "10f9f51f",
   "metadata": {},
   "source": [
    "As we can see above we got the same result using the polyfit function, which confirms that our calculate best value for m and c are correct."
   ]
  },
  {
   "cell_type": "markdown",
   "id": "3ff8b91a",
   "metadata": {},
   "source": [
    "## Scipy"
   ]
  },
  {
   "cell_type": "code",
   "execution_count": 20,
   "id": "6112ce59",
   "metadata": {},
   "outputs": [],
   "source": [
    "# use the scipy function for linear distribuition and explain how it works and what parameters it takes"
   ]
  },
  {
   "cell_type": "code",
   "execution_count": 42,
   "id": "1296c81e",
   "metadata": {},
   "outputs": [],
   "source": [
    "m, c, r_value, p_value, stder = ss.linregress(x,y)"
   ]
  },
  {
   "cell_type": "code",
   "execution_count": null,
   "id": "7bfa6d06",
   "metadata": {},
   "outputs": [],
   "source": []
  },
  {
   "cell_type": "code",
   "execution_count": null,
   "id": "ad4f020f",
   "metadata": {},
   "outputs": [],
   "source": []
  },
  {
   "cell_type": "code",
   "execution_count": null,
   "id": "be6fe1c0",
   "metadata": {},
   "outputs": [],
   "source": []
  },
  {
   "cell_type": "code",
   "execution_count": null,
   "id": "cce38004",
   "metadata": {},
   "outputs": [],
   "source": []
  },
  {
   "cell_type": "code",
   "execution_count": null,
   "id": "9aebee0f",
   "metadata": {},
   "outputs": [],
   "source": []
  },
  {
   "cell_type": "code",
   "execution_count": null,
   "id": "6bd75f3c",
   "metadata": {},
   "outputs": [],
   "source": []
  },
  {
   "cell_type": "code",
   "execution_count": null,
   "id": "6122414d",
   "metadata": {},
   "outputs": [],
   "source": []
  },
  {
   "cell_type": "code",
   "execution_count": 1,
   "id": "181bfbcc",
   "metadata": {},
   "outputs": [],
   "source": [
    "## Plot for the best fit line"
   ]
  },
  {
   "cell_type": "code",
   "execution_count": null,
   "id": "b81b711b",
   "metadata": {},
   "outputs": [],
   "source": []
  },
  {
   "cell_type": "code",
   "execution_count": 30,
   "id": "2c3a95a7",
   "metadata": {},
   "outputs": [],
   "source": [
    "best_fit_line = (m * x)+ c"
   ]
  },
  {
   "cell_type": "code",
   "execution_count": 31,
   "id": "c99cd262",
   "metadata": {},
   "outputs": [
    {
     "data": {
      "image/png": "[encoded data removed]",
      "text/plain": [
       "<Figure size 1000x800 with 1 Axes>"
      ]
     },
     "metadata": {},
     "output_type": "display_data"
    }
   ],
   "source": [
    "plt.rcParams['figure.figsize'] = (10, 8)\n",
    "plt.plot(x,y,\"bo\", label=r\"Actual Data\")\n",
    "plt.xlabel(\"Weight\", size=\"14\")\n",
    "plt.ylabel(\"Height\", size=\"14\")\n",
    "plt.grid()\n",
    "\n",
    "#Setting the limit of the plot so the last value of Y and X is the end of the plot\n",
    "\n",
    "#Plotting different lines to to try to find the best one\n",
    "\n",
    "plt.plot(x,best_fit_line,\"r-\", label=r\"Least Square Fit\")\n",
    "\n",
    "\n",
    "plt.legend()\n",
    "\n",
    "plt.show()\n",
    "\n"
   ]
  },
  {
   "cell_type": "code",
   "execution_count": null,
   "id": "2394e93a",
   "metadata": {},
   "outputs": [],
   "source": []
  },
  {
   "cell_type": "code",
   "execution_count": null,
   "id": "226f6343",
   "metadata": {},
   "outputs": [],
   "source": []
  }
 ],
 "metadata": {
  "kernelspec": {
   "display_name": "Python 3 (ipykernel)",
   "language": "python",
   "name": "python3"
  },
  "language_info": {
   "codemirror_mode": {
    "name": "ipython",
    "version": 3
   },
   "file_extension": ".py",
   "mimetype": "text/x-python",
   "name": "python",
   "nbconvert_exporter": "python",
   "pygments_lexer": "ipython3",
   "version": "3.10.9"
  }
 },
 "nbformat": 4,
 "nbformat_minor": 5
}
